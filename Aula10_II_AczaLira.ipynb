{
  "nbformat": 4,
  "nbformat_minor": 0,
  "metadata": {
    "colab": {
      "name": "Aula10-II_AczaLira.ipynb",
      "version": "0.3.2",
      "provenance": [],
      "collapsed_sections": []
    },
    "kernelspec": {
      "display_name": "Python 3",
      "language": "python",
      "name": "python3"
    }
  },
  "cells": [
    {
      "metadata": {
        "id": "i4p0aS-phmF3",
        "colab_type": "code",
        "colab": {}
      },
      "cell_type": "code",
      "source": [
        "Anotações\n",
        "\n",
        "troca a linha 1 com a 3\n",
        "Então ele multiplica pela Matrix identidade\n",
        "\n",
        "primeiro resolve o lu e identidade\n",
        "\n",
        "segundo def retorna lu, p, identidada"
      ],
      "execution_count": 0,
      "outputs": []
    },
    {
      "metadata": {
        "id": "j_Zjt46XhmFb",
        "colab_type": "code",
        "outputId": "b2eeeadc-b2f3-4435-8693-02a87c867f6d",
        "colab": {
          "base_uri": "https://localhost:8080/",
          "height": 147
        }
      },
      "cell_type": "code",
      "source": [
        "import numpy as np\n",
        "\n",
        "A = np.matrix([[3,(-4),1],[1,2,2],[4,0,(-3)]])\n",
        "b = np.array([9,3,(-2)])\n",
        "\n",
        "\n",
        "def PivParcialLU(A,b):\n",
        "    \n",
        "    print(\"Matriz A \\n\",A)\n",
        "    n = len(A)\n",
        "    p = []\n",
        "    \n",
        "    \n",
        "    for i in range(0, n):\n",
        "        p.append(i)\n",
        "        #p[i] = i\n",
        "        \n",
        "    for k in range(0, n-1):\n",
        "        pv = abs(A[k,k])\n",
        "        #ptiny(\"abss\",pv)\n",
        "        r = k\n",
        "        \n",
        "        for i in range(k+1, n):            \n",
        "            if(abs(A[i,k]) > pv):\n",
        "                pv = abs(A[i,k])\n",
        "                r = i\n",
        "        if(pv == 0):\n",
        "            break\n",
        "        elif(r != k):\n",
        "            aux  = p[k]\n",
        "            #print(\"pk\\n\",p[k])\n",
        "            p[k] = p[r]\n",
        "            p[r] = aux \n",
        "                        \n",
        "            for j in range(0, n):\n",
        "                aux    = A[k,j]\n",
        "                A[k,j] = A[r,j]\n",
        "                A[r,j] = aux\n",
        "              \n",
        "        for i in range(k+1, n):\n",
        "            m = A[i,k]/A[k,k]\n",
        "            A[i,k] = m\n",
        "            for j in range(k+1, n):\n",
        "                A[i,j] = A[i,j] - (m * A[k,j])\n",
        "                            \n",
        "    c = []\n",
        "    for i in range(n): \n",
        "        r   = p[i]\n",
        "        c.append(b[r])    \n",
        "    \n",
        "    #Ly\n",
        "    y = np.copy(b)\n",
        "    for i in range(n):\n",
        "        soma = 0\n",
        "        for j in range(0, i-1):\n",
        "            soma = soma + (A[j,i] * y[j])\n",
        "        y[i]= c[i] - soma\n",
        "\n",
        "    #Ux\n",
        "    x = np.zeros(n)\n",
        "    x[n-1] = b[n-1]/A[n-1, n-1]\n",
        "    \n",
        "    for i in range(n-1, -1, -1):\n",
        "        soma = 0\n",
        "        \n",
        "        for j in range(i+1,n):\n",
        "            soma = soma + A[i,j]*x[j]\n",
        "        x[i]= (y[i] - soma)/A[i,i]\n",
        "    \n",
        "    \n",
        "    print(\"\\nY = \",y)\n",
        "    print(\"\\nX = \",x)\n",
        "    \n",
        "PivParcialLU(A,b)"
      ],
      "execution_count": 0,
      "outputs": [
        {
          "output_type": "stream",
          "text": [
            "Matriz A \n",
            " [[ 3 -4  1]\n",
            " [ 1  2  2]\n",
            " [ 4  0 -3]]\n",
            "\n",
            "Y =  [-2  9 -3]\n",
            "\n",
            "X =  [-1.25 -3.   -1.  ]\n"
          ],
          "name": "stdout"
        }
      ]
    },
    {
      "metadata": {
        "id": "AMOesdwl-LJ8",
        "colab_type": "code",
        "outputId": "3d69cbc2-62b6-48e5-ec12-833a810f6635",
        "colab": {
          "base_uri": "https://localhost:8080/",
          "height": 33
        }
      },
      "cell_type": "code",
      "source": [
        "A = np.matrix([[3,(-4),1],[1,2,2],[4,0,(-3)]])\n",
        "b = np.array([9,3,(-2)])\n",
        "\n",
        "print(np.linalg.solve(A,b))\n",
        "\n",
        "=("
      ],
      "execution_count": 0,
      "outputs": [
        {
          "output_type": "stream",
          "text": [
            "[ 1. -1.  2.]\n"
          ],
          "name": "stdout"
        }
      ]
    }
  ]
}