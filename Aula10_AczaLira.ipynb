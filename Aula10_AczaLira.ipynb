{
 "cells": [
  {
   "cell_type": "markdown",
   "metadata": {},
   "source": [
    "Índice"
   ]
  },
  {
   "cell_type": "markdown",
   "metadata": {},
   "source": [
    "- [Atividades em sala](#Atividades-em-sala)\n",
    "- [Trabalho pra casa](#Trabalho-pra-casa)"
   ]
  },
  {
   "cell_type": "markdown",
   "metadata": {},
   "source": [
    "## Atividades em sala"
   ]
  },
  {
   "cell_type": "code",
   "execution_count": 50,
   "metadata": {},
   "outputs": [
    {
     "name": "stdout",
     "output_type": "stream",
     "text": [
      "Diferente de zero\n",
      "[[ 3.          2.          4.        ]\n",
      " [ 0.          0.33333333  0.66666667]\n",
      " [ 0.          0.33333333 -3.33333333]]\n"
     ]
    }
   ],
   "source": [
    "import numpy as np\n",
    "\n",
    "A = np.matrix([[3,2,4],[1,1,2],[4,3,2]])\n",
    "a1,a2 = fatoresLU(A)\n",
    "M = np.matrix([[1,0,0],[(a1*(-1)),1,0],[(a2*(-1)),0,1]])\n",
    "\n",
    "if(np.linalg.det(M)!=0):\n",
    "    print(\"Diferente de zero\")\n",
    "\n",
    "def fatoresLU(A): \n",
    "  \n",
    "    m12 = A[ 2 - 1, 1 - 1 ] / A[ 1 - 1, 1-1 ]\n",
    "    m21 = A[ 3 - 1, 1 - 1 ] / A[ 1 - 1, 1-1 ] \n",
    "    \n",
    "    return m12, m21\n",
    "\n",
    "    \n",
    "\n",
    "\n",
    "MA = M*A\n",
    "print(MA)\n"
   ]
  },
  {
   "cell_type": "code",
   "execution_count": 49,
   "metadata": {},
   "outputs": [
    {
     "name": "stdout",
     "output_type": "stream",
     "text": [
      "[[ 1.33333333  0.          0.        ]\n",
      " [-0.44444444  1.33333333  0.        ]\n",
      " [-1.77777778  0.          1.33333333]]\n"
     ]
    }
   ],
   "source": [
    "A = np.matrix([[3,2,4],[1,1,2],[4,3,-2]])\n",
    "\n",
    "a1,a2 = fatoresLU(A)\n",
    "M = np.matrix([[1,0,0],[(a1*(-1)),1,0],[(a2*(-1)),0,1]])\n",
    "\n",
    "print(np.dot(M,b))\n"
   ]
  },
  {
   "cell_type": "markdown",
   "metadata": {},
   "source": [
    "## Trabalho pra casa"
   ]
  },
  {
   "cell_type": "code",
   "execution_count": null,
   "metadata": {
    "collapsed": true
   },
   "outputs": [],
   "source": [
    "Fazer exemplo 1 completo"
   ]
  },
  {
   "cell_type": "code",
   "execution_count": 53,
   "metadata": {},
   "outputs": [
    {
     "name": "stdout",
     "output_type": "stream",
     "text": [
      "matriz exemplo\n",
      "[[3. 2. 4.]\n",
      " [1. 1. 2.]\n",
      " [4. 3. 2.]]\n",
      "Matriz L\n",
      "[[1.         0.         0.        ]\n",
      " [0.33333333 1.         0.        ]\n",
      " [1.33333333 1.         1.        ]]\n",
      "        \n",
      "Matriz U\n",
      "[[ 3.          2.          4.        ]\n",
      " [ 0.          0.33333333  0.66666667]\n",
      " [ 0.          0.         -4.        ]]\n",
      "        \n",
      "Multiplicacao de L por U\n",
      "[[3. 2. 4.]\n",
      " [1. 1. 2.]\n",
      " [4. 3. 2.]]\n",
      " \n",
      "Y =  [1.0, 1.6666666666666667, 0]\n",
      " \n",
      "X =  [-3.0, 5.0, -0.0]\n"
     ]
    }
   ],
   "source": [
    "U = np.array([[3.,(2.),(4.)], [1.,1.,(2.)], [(4.),(3.),(2.)]])\n",
    "b = np.array([1.,2.,3.])\n",
    "L = np.zeros([3,3])\n",
    "\n",
    "print(\"matriz exemplo\")\n",
    "print(U)\n",
    "\n",
    "def FatoracaoLU(U,b):\n",
    "    n = len(U)\n",
    "    m = n*[0]\n",
    "    \n",
    "    for k in range(0,n):\n",
    "        L[k][k] = 1\n",
    "        for i in range(k+1,n):\n",
    "            m=U[i][k]/U[k][k]\n",
    "            U[i][k] = 0\n",
    "            L[i][k] = m\n",
    "            L\n",
    "            for j in range(k+1,n):\n",
    "                U[i][j] = U[i][j] - m*U[k][j]\n",
    "    return L, U\n",
    "                \n",
    "\n",
    "\n",
    "FatoracaoLU(U,b)\n",
    "\n",
    "print(\"Matriz L\")\n",
    "print(L)\n",
    "print(\"        \")\n",
    "print(\"Matriz U\")\n",
    "print(U)\n",
    "print(\"        \")\n",
    "print(\"Multiplicacao de L por U\")\n",
    "LU = np.dot(L,U)\n",
    "print(LU)\n",
    "\n",
    "\n",
    "nL = len(L)\n",
    "y = nL*[0]\n",
    "\n",
    "nU = len(U)\n",
    "x = nU*[0]\n",
    "\n",
    "def solucaoLy(L,b, n):\n",
    "    y[0] = b[0]/L[0][0]\n",
    "    for k in range(1,n-1):\n",
    "        s = 0\n",
    "        for j in range(k-1,n):\n",
    "            s = s + L[k][j]*y[j]\n",
    "        y[k] = (b[k]-s)/L[k][k]   \n",
    "        \n",
    "    return y\n",
    "  \n",
    "solucaoLy(L,b,nL)\n",
    "\n",
    "print(\" \")\n",
    "print(\"Y = \",y)\n",
    "\n",
    "def solucaoUx(U,y,n):\n",
    "    x[n-1] = y[n-1]/U[n-1][n-1]\n",
    "    for k in range(n-1,-1,-1):\n",
    "        s = 0\n",
    "        for j in range(k+1,n):\n",
    "            s = s + U[k][j]*x[j]\n",
    "        x[k] = (y[k]-s)/U[k][k]                 \n",
    "    return x  \n",
    "  \n",
    "  \n",
    "solucaoUx(U,y, nU)\n",
    "\n",
    "print(\" \")\n",
    "print(\"X = \",x)"
   ]
  }
 ],
 "metadata": {
  "anaconda-cloud": {},
  "kernelspec": {
   "display_name": "Python 3",
   "language": "python",
   "name": "python3"
  },
  "language_info": {
   "codemirror_mode": {
    "name": "ipython",
    "version": 3
   },
   "file_extension": ".py",
   "mimetype": "text/x-python",
   "name": "python",
   "nbconvert_exporter": "python",
   "pygments_lexer": "ipython3",
   "version": "3.6.5"
  }
 },
 "nbformat": 4,
 "nbformat_minor": 1
}
