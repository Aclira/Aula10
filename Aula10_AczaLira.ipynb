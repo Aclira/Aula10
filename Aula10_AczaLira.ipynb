{
 "cells": [
  {
   "cell_type": "code",
   "execution_count": 101,
   "metadata": {
    "collapsed": false
   },
   "outputs": [
    {
     "name": "stdout",
     "output_type": "stream",
     "text": [
      "[[ 1.  0.  0.]\n",
      " [ 1.  1.  0.]\n",
      " [ 4.  0.  1.]]\n",
      "Diferente de zero\n",
      "[[ 1.          0.          0.        ]\n",
      " [-0.33333333  1.          0.        ]\n",
      " [-1.33333333  0.          1.        ]]\n"
     ]
    }
   ],
   "source": [
    "import numpy as np\n",
    "\n",
    "M = np.array([[1.,0,0], [1.,1.,0],[4.,0,1.]])\n",
    "print(M)\n",
    "\n",
    "m = np.zeros((3,3))\n",
    "\n",
    "if(np.linalg.det(M)!=0):\n",
    "    print(\"Diferente de zero\")\n",
    "\n",
    "m[2-1,1-1] = M[2-1,1-1]/M[1-1,1-1]\n",
    "\n",
    "\n",
    "M[2-1,1-1] = -0.333333333#m[2-1,1-1]*M[2-1,1-1]\n",
    "\n",
    "m[3-1,1-1] = M[3-1,1-1]/M[1-1,1-1]\n",
    "\n",
    "M[3-1,1-1] = -1.333333333#m[3-1,1-1]*M[3-1,1-1]\n",
    "\n",
    "\n",
    "\n",
    "print(M)\n",
    "    \n",
    "\n",
    "    \n"
   ]
  },
  {
   "cell_type": "code",
   "execution_count": null,
   "metadata": {
    "collapsed": true
   },
   "outputs": [],
   "source": [
    "aux = matriz atal * matriz de etrada"
   ]
  },
  {
   "cell_type": "code",
   "execution_count": null,
   "metadata": {
    "collapsed": true
   },
   "outputs": [],
   "source": [
    "for k in range(0,n-1):\n",
    "            for i in range(k+1,n):\n",
    "            "
   ]
  },
  {
   "cell_type": "code",
   "execution_count": 102,
   "metadata": {
    "collapsed": false
   },
   "outputs": [
    {
     "name": "stdout",
     "output_type": "stream",
     "text": [
      "[-3.66666666  2.          3.        ]\n"
     ]
    }
   ],
   "source": [
    "b = np.array([1,2,3])\n",
    "#M = np.matrix([[3.,2.,4.], [1.,1.,2.],[4.,3.,2.]])\n",
    "\n",
    "a = np.dot(b,M)\n",
    "print(a)"
   ]
  },
  {
   "cell_type": "code",
   "execution_count": null,
   "metadata": {
    "collapsed": true
   },
   "outputs": [],
   "source": []
  },
  {
   "cell_type": "code",
   "execution_count": null,
   "metadata": {
    "collapsed": true
   },
   "outputs": [],
   "source": []
  },
  {
   "cell_type": "code",
   "execution_count": null,
   "metadata": {
    "collapsed": true
   },
   "outputs": [],
   "source": [
    "#TRABALHO PRA CASA\n",
    "Fazer exemplo 1 completo"
   ]
  }
 ],
 "metadata": {
  "anaconda-cloud": {},
  "kernelspec": {
   "display_name": "Python [default]",
   "language": "python",
   "name": "python3"
  },
  "language_info": {
   "codemirror_mode": {
    "name": "ipython",
    "version": 3
   },
   "file_extension": ".py",
   "mimetype": "text/x-python",
   "name": "python",
   "nbconvert_exporter": "python",
   "pygments_lexer": "ipython3",
   "version": "3.5.2"
  }
 },
 "nbformat": 4,
 "nbformat_minor": 1
}
